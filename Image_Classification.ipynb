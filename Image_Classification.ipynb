{
  "cells": [
    {
      "cell_type": "markdown",
      "metadata": {
        "id": "view-in-github",
        "colab_type": "text"
      },
      "source": [
        "<a href=\"https://colab.research.google.com/github/acrobyte007/Image_Classification/blob/main/Image_Classification.ipynb\" target=\"_parent\"><img src=\"https://colab.research.google.com/assets/colab-badge.svg\" alt=\"Open In Colab\"/></a>"
      ]
    },
    {
      "cell_type": "code",
      "source": [
        "import os\n",
        "import zipfile\n",
        "\n",
        "# Path to the ZIP file\n",
        "zip_file_path = '/content/EuroSAT.zip'\n",
        "extraction_path = '/content/EuroSAT_extracted'\n",
        "\n",
        "# Check if the ZIP file exists\n",
        "if os.path.exists(zip_file_path):\n",
        "\n",
        "    os.makedirs(extraction_path, exist_ok=True)\n",
        "\n",
        "    # Extract the ZIP file\n",
        "    with zipfile.ZipFile(zip_file_path, 'r') as zip_ref:\n",
        "        zip_ref.extractall(extraction_path)\n",
        "\n",
        "    # Now list all folders in the extracted directory\n",
        "    folders = [f for f in os.listdir(extraction_path) if os.path.isdir(os.path.join(extraction_path, f))]\n",
        "\n",
        "    # Print the names of the folders and their contents\n",
        "    for folder in folders:\n",
        "        print(f'Contents of {folder}:')\n",
        "        folder_path = os.path.join(extraction_path, folder)\n",
        "        contents = os.listdir(folder_path)\n",
        "        print(contents)\n",
        "        print()\n",
        "else:\n",
        "    print(\"The specified ZIP file does not exist.\")\n"
      ],
      "metadata": {
        "id": "ZTRUaCy7aGri",
        "colab": {
          "base_uri": "https://localhost:8080/"
        },
        "outputId": "297c6789-4b43-467f-f252-2fbce4cf153f"
      },
      "execution_count": 1,
      "outputs": [
        {
          "output_type": "stream",
          "name": "stdout",
          "text": [
            "Contents of EuroSAT:\n",
            "['Forest', 'PermanentCrop', 'validation.csv', 'Residential', 'test.csv', 'train.csv', 'label_map.json', 'AnnualCrop', 'Industrial', 'SeaLake', 'River', 'Pasture', 'HerbaceousVegetation', 'Highway']\n",
            "\n"
          ]
        }
      ]
    },
    {
      "cell_type": "code",
      "execution_count": 2,
      "metadata": {
        "id": "1_i4MPibfSLG"
      },
      "outputs": [],
      "source": [
        "import pandas as pd"
      ]
    },
    {
      "cell_type": "code",
      "execution_count": 3,
      "metadata": {
        "id": "pK_MQdS9fVxP"
      },
      "outputs": [],
      "source": [
        "train=pd.read_csv(\"/content/EuroSAT_extracted/EuroSAT/train.csv\")"
      ]
    },
    {
      "cell_type": "code",
      "execution_count": 4,
      "metadata": {
        "id": "M8_LiiPMfcAZ"
      },
      "outputs": [],
      "source": [
        "test=pd.read_csv(\"/content/EuroSAT_extracted/EuroSAT/test.csv\")"
      ]
    },
    {
      "cell_type": "code",
      "execution_count": 5,
      "metadata": {
        "id": "Ps14WFHjffFY"
      },
      "outputs": [],
      "source": [
        "validation=pd.read_csv(\"/content/EuroSAT_extracted/EuroSAT/validation.csv\")"
      ]
    },
    {
      "cell_type": "code",
      "execution_count": 6,
      "metadata": {
        "id": "AZ9d3LBffi5X",
        "colab": {
          "base_uri": "https://localhost:8080/",
          "height": 423
        },
        "outputId": "fcebe3ca-1a21-4749-b9de-2f0fc1cb7d4b"
      },
      "outputs": [
        {
          "output_type": "execute_result",
          "data": {
            "text/plain": [
              "       Unnamed: 0                                           Filename  Label  \\\n",
              "0           16257                      AnnualCrop/AnnualCrop_142.jpg      0   \n",
              "1            3297  HerbaceousVegetation/HerbaceousVegetation_2835...      2   \n",
              "2           17881               PermanentCrop/PermanentCrop_1073.jpg      6   \n",
              "3            2223                      Industrial/Industrial_453.jpg      4   \n",
              "4            4887  HerbaceousVegetation/HerbaceousVegetation_1810...      2   \n",
              "...           ...                                                ...    ...   \n",
              "18895        4498  HerbaceousVegetation/HerbaceousVegetation_1952...      2   \n",
              "18896        1149                           Pasture/Pasture_1252.jpg      5   \n",
              "18897       15489                     AnnualCrop/AnnualCrop_2332.jpg      0   \n",
              "18898        6287                    Residential/Residential_332.jpg      7   \n",
              "18899       18613                PermanentCrop/PermanentCrop_856.jpg      6   \n",
              "\n",
              "                  ClassName  \n",
              "0                AnnualCrop  \n",
              "1      HerbaceousVegetation  \n",
              "2             PermanentCrop  \n",
              "3                Industrial  \n",
              "4      HerbaceousVegetation  \n",
              "...                     ...  \n",
              "18895  HerbaceousVegetation  \n",
              "18896               Pasture  \n",
              "18897            AnnualCrop  \n",
              "18898           Residential  \n",
              "18899         PermanentCrop  \n",
              "\n",
              "[18900 rows x 4 columns]"
            ],
            "text/html": [
              "\n",
              "  <div id=\"df-0a8d7eaf-a835-4057-baac-5dc51c57d0cd\" class=\"colab-df-container\">\n",
              "    <div>\n",
              "<style scoped>\n",
              "    .dataframe tbody tr th:only-of-type {\n",
              "        vertical-align: middle;\n",
              "    }\n",
              "\n",
              "    .dataframe tbody tr th {\n",
              "        vertical-align: top;\n",
              "    }\n",
              "\n",
              "    .dataframe thead th {\n",
              "        text-align: right;\n",
              "    }\n",
              "</style>\n",
              "<table border=\"1\" class=\"dataframe\">\n",
              "  <thead>\n",
              "    <tr style=\"text-align: right;\">\n",
              "      <th></th>\n",
              "      <th>Unnamed: 0</th>\n",
              "      <th>Filename</th>\n",
              "      <th>Label</th>\n",
              "      <th>ClassName</th>\n",
              "    </tr>\n",
              "  </thead>\n",
              "  <tbody>\n",
              "    <tr>\n",
              "      <th>0</th>\n",
              "      <td>16257</td>\n",
              "      <td>AnnualCrop/AnnualCrop_142.jpg</td>\n",
              "      <td>0</td>\n",
              "      <td>AnnualCrop</td>\n",
              "    </tr>\n",
              "    <tr>\n",
              "      <th>1</th>\n",
              "      <td>3297</td>\n",
              "      <td>HerbaceousVegetation/HerbaceousVegetation_2835...</td>\n",
              "      <td>2</td>\n",
              "      <td>HerbaceousVegetation</td>\n",
              "    </tr>\n",
              "    <tr>\n",
              "      <th>2</th>\n",
              "      <td>17881</td>\n",
              "      <td>PermanentCrop/PermanentCrop_1073.jpg</td>\n",
              "      <td>6</td>\n",
              "      <td>PermanentCrop</td>\n",
              "    </tr>\n",
              "    <tr>\n",
              "      <th>3</th>\n",
              "      <td>2223</td>\n",
              "      <td>Industrial/Industrial_453.jpg</td>\n",
              "      <td>4</td>\n",
              "      <td>Industrial</td>\n",
              "    </tr>\n",
              "    <tr>\n",
              "      <th>4</th>\n",
              "      <td>4887</td>\n",
              "      <td>HerbaceousVegetation/HerbaceousVegetation_1810...</td>\n",
              "      <td>2</td>\n",
              "      <td>HerbaceousVegetation</td>\n",
              "    </tr>\n",
              "    <tr>\n",
              "      <th>...</th>\n",
              "      <td>...</td>\n",
              "      <td>...</td>\n",
              "      <td>...</td>\n",
              "      <td>...</td>\n",
              "    </tr>\n",
              "    <tr>\n",
              "      <th>18895</th>\n",
              "      <td>4498</td>\n",
              "      <td>HerbaceousVegetation/HerbaceousVegetation_1952...</td>\n",
              "      <td>2</td>\n",
              "      <td>HerbaceousVegetation</td>\n",
              "    </tr>\n",
              "    <tr>\n",
              "      <th>18896</th>\n",
              "      <td>1149</td>\n",
              "      <td>Pasture/Pasture_1252.jpg</td>\n",
              "      <td>5</td>\n",
              "      <td>Pasture</td>\n",
              "    </tr>\n",
              "    <tr>\n",
              "      <th>18897</th>\n",
              "      <td>15489</td>\n",
              "      <td>AnnualCrop/AnnualCrop_2332.jpg</td>\n",
              "      <td>0</td>\n",
              "      <td>AnnualCrop</td>\n",
              "    </tr>\n",
              "    <tr>\n",
              "      <th>18898</th>\n",
              "      <td>6287</td>\n",
              "      <td>Residential/Residential_332.jpg</td>\n",
              "      <td>7</td>\n",
              "      <td>Residential</td>\n",
              "    </tr>\n",
              "    <tr>\n",
              "      <th>18899</th>\n",
              "      <td>18613</td>\n",
              "      <td>PermanentCrop/PermanentCrop_856.jpg</td>\n",
              "      <td>6</td>\n",
              "      <td>PermanentCrop</td>\n",
              "    </tr>\n",
              "  </tbody>\n",
              "</table>\n",
              "<p>18900 rows × 4 columns</p>\n",
              "</div>\n",
              "    <div class=\"colab-df-buttons\">\n",
              "\n",
              "  <div class=\"colab-df-container\">\n",
              "    <button class=\"colab-df-convert\" onclick=\"convertToInteractive('df-0a8d7eaf-a835-4057-baac-5dc51c57d0cd')\"\n",
              "            title=\"Convert this dataframe to an interactive table.\"\n",
              "            style=\"display:none;\">\n",
              "\n",
              "  <svg xmlns=\"http://www.w3.org/2000/svg\" height=\"24px\" viewBox=\"0 -960 960 960\">\n",
              "    <path d=\"M120-120v-720h720v720H120Zm60-500h600v-160H180v160Zm220 220h160v-160H400v160Zm0 220h160v-160H400v160ZM180-400h160v-160H180v160Zm440 0h160v-160H620v160ZM180-180h160v-160H180v160Zm440 0h160v-160H620v160Z\"/>\n",
              "  </svg>\n",
              "    </button>\n",
              "\n",
              "  <style>\n",
              "    .colab-df-container {\n",
              "      display:flex;\n",
              "      gap: 12px;\n",
              "    }\n",
              "\n",
              "    .colab-df-convert {\n",
              "      background-color: #E8F0FE;\n",
              "      border: none;\n",
              "      border-radius: 50%;\n",
              "      cursor: pointer;\n",
              "      display: none;\n",
              "      fill: #1967D2;\n",
              "      height: 32px;\n",
              "      padding: 0 0 0 0;\n",
              "      width: 32px;\n",
              "    }\n",
              "\n",
              "    .colab-df-convert:hover {\n",
              "      background-color: #E2EBFA;\n",
              "      box-shadow: 0px 1px 2px rgba(60, 64, 67, 0.3), 0px 1px 3px 1px rgba(60, 64, 67, 0.15);\n",
              "      fill: #174EA6;\n",
              "    }\n",
              "\n",
              "    .colab-df-buttons div {\n",
              "      margin-bottom: 4px;\n",
              "    }\n",
              "\n",
              "    [theme=dark] .colab-df-convert {\n",
              "      background-color: #3B4455;\n",
              "      fill: #D2E3FC;\n",
              "    }\n",
              "\n",
              "    [theme=dark] .colab-df-convert:hover {\n",
              "      background-color: #434B5C;\n",
              "      box-shadow: 0px 1px 3px 1px rgba(0, 0, 0, 0.15);\n",
              "      filter: drop-shadow(0px 1px 2px rgba(0, 0, 0, 0.3));\n",
              "      fill: #FFFFFF;\n",
              "    }\n",
              "  </style>\n",
              "\n",
              "    <script>\n",
              "      const buttonEl =\n",
              "        document.querySelector('#df-0a8d7eaf-a835-4057-baac-5dc51c57d0cd button.colab-df-convert');\n",
              "      buttonEl.style.display =\n",
              "        google.colab.kernel.accessAllowed ? 'block' : 'none';\n",
              "\n",
              "      async function convertToInteractive(key) {\n",
              "        const element = document.querySelector('#df-0a8d7eaf-a835-4057-baac-5dc51c57d0cd');\n",
              "        const dataTable =\n",
              "          await google.colab.kernel.invokeFunction('convertToInteractive',\n",
              "                                                    [key], {});\n",
              "        if (!dataTable) return;\n",
              "\n",
              "        const docLinkHtml = 'Like what you see? Visit the ' +\n",
              "          '<a target=\"_blank\" href=https://colab.research.google.com/notebooks/data_table.ipynb>data table notebook</a>'\n",
              "          + ' to learn more about interactive tables.';\n",
              "        element.innerHTML = '';\n",
              "        dataTable['output_type'] = 'display_data';\n",
              "        await google.colab.output.renderOutput(dataTable, element);\n",
              "        const docLink = document.createElement('div');\n",
              "        docLink.innerHTML = docLinkHtml;\n",
              "        element.appendChild(docLink);\n",
              "      }\n",
              "    </script>\n",
              "  </div>\n",
              "\n",
              "\n",
              "<div id=\"df-8e418cd6-18fc-4463-ba25-f965423dff6a\">\n",
              "  <button class=\"colab-df-quickchart\" onclick=\"quickchart('df-8e418cd6-18fc-4463-ba25-f965423dff6a')\"\n",
              "            title=\"Suggest charts\"\n",
              "            style=\"display:none;\">\n",
              "\n",
              "<svg xmlns=\"http://www.w3.org/2000/svg\" height=\"24px\"viewBox=\"0 0 24 24\"\n",
              "     width=\"24px\">\n",
              "    <g>\n",
              "        <path d=\"M19 3H5c-1.1 0-2 .9-2 2v14c0 1.1.9 2 2 2h14c1.1 0 2-.9 2-2V5c0-1.1-.9-2-2-2zM9 17H7v-7h2v7zm4 0h-2V7h2v10zm4 0h-2v-4h2v4z\"/>\n",
              "    </g>\n",
              "</svg>\n",
              "  </button>\n",
              "\n",
              "<style>\n",
              "  .colab-df-quickchart {\n",
              "      --bg-color: #E8F0FE;\n",
              "      --fill-color: #1967D2;\n",
              "      --hover-bg-color: #E2EBFA;\n",
              "      --hover-fill-color: #174EA6;\n",
              "      --disabled-fill-color: #AAA;\n",
              "      --disabled-bg-color: #DDD;\n",
              "  }\n",
              "\n",
              "  [theme=dark] .colab-df-quickchart {\n",
              "      --bg-color: #3B4455;\n",
              "      --fill-color: #D2E3FC;\n",
              "      --hover-bg-color: #434B5C;\n",
              "      --hover-fill-color: #FFFFFF;\n",
              "      --disabled-bg-color: #3B4455;\n",
              "      --disabled-fill-color: #666;\n",
              "  }\n",
              "\n",
              "  .colab-df-quickchart {\n",
              "    background-color: var(--bg-color);\n",
              "    border: none;\n",
              "    border-radius: 50%;\n",
              "    cursor: pointer;\n",
              "    display: none;\n",
              "    fill: var(--fill-color);\n",
              "    height: 32px;\n",
              "    padding: 0;\n",
              "    width: 32px;\n",
              "  }\n",
              "\n",
              "  .colab-df-quickchart:hover {\n",
              "    background-color: var(--hover-bg-color);\n",
              "    box-shadow: 0 1px 2px rgba(60, 64, 67, 0.3), 0 1px 3px 1px rgba(60, 64, 67, 0.15);\n",
              "    fill: var(--button-hover-fill-color);\n",
              "  }\n",
              "\n",
              "  .colab-df-quickchart-complete:disabled,\n",
              "  .colab-df-quickchart-complete:disabled:hover {\n",
              "    background-color: var(--disabled-bg-color);\n",
              "    fill: var(--disabled-fill-color);\n",
              "    box-shadow: none;\n",
              "  }\n",
              "\n",
              "  .colab-df-spinner {\n",
              "    border: 2px solid var(--fill-color);\n",
              "    border-color: transparent;\n",
              "    border-bottom-color: var(--fill-color);\n",
              "    animation:\n",
              "      spin 1s steps(1) infinite;\n",
              "  }\n",
              "\n",
              "  @keyframes spin {\n",
              "    0% {\n",
              "      border-color: transparent;\n",
              "      border-bottom-color: var(--fill-color);\n",
              "      border-left-color: var(--fill-color);\n",
              "    }\n",
              "    20% {\n",
              "      border-color: transparent;\n",
              "      border-left-color: var(--fill-color);\n",
              "      border-top-color: var(--fill-color);\n",
              "    }\n",
              "    30% {\n",
              "      border-color: transparent;\n",
              "      border-left-color: var(--fill-color);\n",
              "      border-top-color: var(--fill-color);\n",
              "      border-right-color: var(--fill-color);\n",
              "    }\n",
              "    40% {\n",
              "      border-color: transparent;\n",
              "      border-right-color: var(--fill-color);\n",
              "      border-top-color: var(--fill-color);\n",
              "    }\n",
              "    60% {\n",
              "      border-color: transparent;\n",
              "      border-right-color: var(--fill-color);\n",
              "    }\n",
              "    80% {\n",
              "      border-color: transparent;\n",
              "      border-right-color: var(--fill-color);\n",
              "      border-bottom-color: var(--fill-color);\n",
              "    }\n",
              "    90% {\n",
              "      border-color: transparent;\n",
              "      border-bottom-color: var(--fill-color);\n",
              "    }\n",
              "  }\n",
              "</style>\n",
              "\n",
              "  <script>\n",
              "    async function quickchart(key) {\n",
              "      const quickchartButtonEl =\n",
              "        document.querySelector('#' + key + ' button');\n",
              "      quickchartButtonEl.disabled = true;  // To prevent multiple clicks.\n",
              "      quickchartButtonEl.classList.add('colab-df-spinner');\n",
              "      try {\n",
              "        const charts = await google.colab.kernel.invokeFunction(\n",
              "            'suggestCharts', [key], {});\n",
              "      } catch (error) {\n",
              "        console.error('Error during call to suggestCharts:', error);\n",
              "      }\n",
              "      quickchartButtonEl.classList.remove('colab-df-spinner');\n",
              "      quickchartButtonEl.classList.add('colab-df-quickchart-complete');\n",
              "    }\n",
              "    (() => {\n",
              "      let quickchartButtonEl =\n",
              "        document.querySelector('#df-8e418cd6-18fc-4463-ba25-f965423dff6a button');\n",
              "      quickchartButtonEl.style.display =\n",
              "        google.colab.kernel.accessAllowed ? 'block' : 'none';\n",
              "    })();\n",
              "  </script>\n",
              "</div>\n",
              "\n",
              "  <div id=\"id_96f8e3d8-932e-46bb-a5ee-6aa854a22429\">\n",
              "    <style>\n",
              "      .colab-df-generate {\n",
              "        background-color: #E8F0FE;\n",
              "        border: none;\n",
              "        border-radius: 50%;\n",
              "        cursor: pointer;\n",
              "        display: none;\n",
              "        fill: #1967D2;\n",
              "        height: 32px;\n",
              "        padding: 0 0 0 0;\n",
              "        width: 32px;\n",
              "      }\n",
              "\n",
              "      .colab-df-generate:hover {\n",
              "        background-color: #E2EBFA;\n",
              "        box-shadow: 0px 1px 2px rgba(60, 64, 67, 0.3), 0px 1px 3px 1px rgba(60, 64, 67, 0.15);\n",
              "        fill: #174EA6;\n",
              "      }\n",
              "\n",
              "      [theme=dark] .colab-df-generate {\n",
              "        background-color: #3B4455;\n",
              "        fill: #D2E3FC;\n",
              "      }\n",
              "\n",
              "      [theme=dark] .colab-df-generate:hover {\n",
              "        background-color: #434B5C;\n",
              "        box-shadow: 0px 1px 3px 1px rgba(0, 0, 0, 0.15);\n",
              "        filter: drop-shadow(0px 1px 2px rgba(0, 0, 0, 0.3));\n",
              "        fill: #FFFFFF;\n",
              "      }\n",
              "    </style>\n",
              "    <button class=\"colab-df-generate\" onclick=\"generateWithVariable('train')\"\n",
              "            title=\"Generate code using this dataframe.\"\n",
              "            style=\"display:none;\">\n",
              "\n",
              "  <svg xmlns=\"http://www.w3.org/2000/svg\" height=\"24px\"viewBox=\"0 0 24 24\"\n",
              "       width=\"24px\">\n",
              "    <path d=\"M7,19H8.4L18.45,9,17,7.55,7,17.6ZM5,21V16.75L18.45,3.32a2,2,0,0,1,2.83,0l1.4,1.43a1.91,1.91,0,0,1,.58,1.4,1.91,1.91,0,0,1-.58,1.4L9.25,21ZM18.45,9,17,7.55Zm-12,3A5.31,5.31,0,0,0,4.9,8.1,5.31,5.31,0,0,0,1,6.5,5.31,5.31,0,0,0,4.9,4.9,5.31,5.31,0,0,0,6.5,1,5.31,5.31,0,0,0,8.1,4.9,5.31,5.31,0,0,0,12,6.5,5.46,5.46,0,0,0,6.5,12Z\"/>\n",
              "  </svg>\n",
              "    </button>\n",
              "    <script>\n",
              "      (() => {\n",
              "      const buttonEl =\n",
              "        document.querySelector('#id_96f8e3d8-932e-46bb-a5ee-6aa854a22429 button.colab-df-generate');\n",
              "      buttonEl.style.display =\n",
              "        google.colab.kernel.accessAllowed ? 'block' : 'none';\n",
              "\n",
              "      buttonEl.onclick = () => {\n",
              "        google.colab.notebook.generateWithVariable('train');\n",
              "      }\n",
              "      })();\n",
              "    </script>\n",
              "  </div>\n",
              "\n",
              "    </div>\n",
              "  </div>\n"
            ],
            "application/vnd.google.colaboratory.intrinsic+json": {
              "type": "dataframe",
              "variable_name": "train",
              "summary": "{\n  \"name\": \"train\",\n  \"rows\": 18900,\n  \"fields\": [\n    {\n      \"column\": \"Unnamed: 0\",\n      \"properties\": {\n        \"dtype\": \"number\",\n        \"std\": 5456,\n        \"min\": 0,\n        \"max\": 18899,\n        \"num_unique_values\": 18900,\n        \"samples\": [\n          6524,\n          4480,\n          10328\n        ],\n        \"semantic_type\": \"\",\n        \"description\": \"\"\n      }\n    },\n    {\n      \"column\": \"Filename\",\n      \"properties\": {\n        \"dtype\": \"string\",\n        \"num_unique_values\": 18900,\n        \"samples\": [\n          \"Residential/Residential_2442.jpg\",\n          \"HerbaceousVegetation/HerbaceousVegetation_2683.jpg\",\n          \"River/River_798.jpg\"\n        ],\n        \"semantic_type\": \"\",\n        \"description\": \"\"\n      }\n    },\n    {\n      \"column\": \"Label\",\n      \"properties\": {\n        \"dtype\": \"number\",\n        \"std\": 2,\n        \"min\": 0,\n        \"max\": 9,\n        \"num_unique_values\": 10,\n        \"samples\": [\n          9,\n          2,\n          3\n        ],\n        \"semantic_type\": \"\",\n        \"description\": \"\"\n      }\n    },\n    {\n      \"column\": \"ClassName\",\n      \"properties\": {\n        \"dtype\": \"category\",\n        \"num_unique_values\": 10,\n        \"samples\": [\n          \"SeaLake\",\n          \"HerbaceousVegetation\",\n          \"Highway\"\n        ],\n        \"semantic_type\": \"\",\n        \"description\": \"\"\n      }\n    }\n  ]\n}"
            }
          },
          "metadata": {},
          "execution_count": 6
        }
      ],
      "source": [
        "train"
      ]
    },
    {
      "cell_type": "code",
      "execution_count": 7,
      "metadata": {
        "id": "FaRoq6_KgvAq"
      },
      "outputs": [],
      "source": [
        "import pandas as pd\n",
        "from pathlib import Path\n",
        "from PIL import Image"
      ]
    },
    {
      "cell_type": "code",
      "execution_count": 9,
      "metadata": {
        "id": "_qV4JEOchLIe"
      },
      "outputs": [],
      "source": [
        "parent_dir=Path(\"/content/EuroSAT_extracted/EuroSAT\")"
      ]
    },
    {
      "cell_type": "code",
      "execution_count": 10,
      "metadata": {
        "id": "ZFhVFsaliyQF"
      },
      "outputs": [],
      "source": [
        "import tensorflow as tf\n",
        "from tensorflow.keras.preprocessing.image import ImageDataGenerator\n"
      ]
    },
    {
      "cell_type": "code",
      "execution_count": 11,
      "metadata": {
        "id": "wjHNziSDjsQO"
      },
      "outputs": [],
      "source": [
        "# Convert parent_dir to a string and concatenate with the Filename\n",
        "train['image_path'] = train['Filename'].apply(lambda x: str(parent_dir) + \"/\" + x)\n",
        "validation['image_path'] = validation['Filename'].apply(lambda x: str(parent_dir) + \"/\" + x)\n"
      ]
    },
    {
      "cell_type": "code",
      "execution_count": 12,
      "metadata": {
        "id": "BY4fqz1OiopW",
        "colab": {
          "base_uri": "https://localhost:8080/"
        },
        "outputId": "0957c2de-4536-473f-f3b3-2975da0efb89"
      },
      "outputs": [
        {
          "output_type": "stream",
          "name": "stdout",
          "text": [
            "Found 18900 validated image filenames belonging to 10 classes.\n",
            "Found 5400 validated image filenames belonging to 10 classes.\n"
          ]
        }
      ],
      "source": [
        "\n",
        "# Prepare ImageDataGenerator\n",
        "train_datagen = ImageDataGenerator(rescale=1.0/255,\n",
        "                                   rotation_range=20,\n",
        "                                   width_shift_range=0.2,\n",
        "                                   height_shift_range=0.2,\n",
        "                                   shear_range=0.2,\n",
        "                                   zoom_range=0.2,\n",
        "                                   horizontal_flip=True)\n",
        "\n",
        "val_datagen = ImageDataGenerator(rescale=1.0/255)\n",
        "\n",
        "# Function to load images from DataFrame\n",
        "def load_data_from_dataframe(df, datagen, target_size=(224, 224), batch_size=32, shuffle=True):\n",
        "    return datagen.flow_from_dataframe(\n",
        "        dataframe=df,\n",
        "        x_col='image_path',\n",
        "        y_col='ClassName',\n",
        "        target_size=target_size,\n",
        "        batch_size=batch_size,\n",
        "        class_mode='categorical',\n",
        "        shuffle=shuffle\n",
        "    )\n",
        "\n",
        "# Create the training and validation data generators\n",
        "train_generator = load_data_from_dataframe(train, train_datagen)\n",
        "val_generator = load_data_from_dataframe(validation, val_datagen, shuffle=False)"
      ]
    },
    {
      "cell_type": "code",
      "execution_count": 13,
      "metadata": {
        "id": "lw5qaCFOj562",
        "colab": {
          "base_uri": "https://localhost:8080/"
        },
        "outputId": "eeeeecac-e9a9-42b6-d79a-93dd1cd16a15"
      },
      "outputs": [
        {
          "output_type": "stream",
          "name": "stdout",
          "text": [
            "Downloading data from https://storage.googleapis.com/tensorflow/keras-applications/vgg16/vgg16_weights_tf_dim_ordering_tf_kernels_notop.h5\n",
            "\u001b[1m58889256/58889256\u001b[0m \u001b[32m━━━━━━━━━━━━━━━━━━━━\u001b[0m\u001b[37m\u001b[0m \u001b[1m4s\u001b[0m 0us/step\n"
          ]
        }
      ],
      "source": [
        "from tensorflow.keras.applications import VGG16\n",
        "from tensorflow.keras.models import Model\n",
        "from tensorflow.keras.layers import Dense, Flatten, Dropout\n",
        "\n",
        "# Load the VGG16 model with pre-trained weights, excluding the top layer\n",
        "base_model = VGG16(weights='imagenet', include_top=False, input_shape=(224, 224, 3))\n",
        "\n",
        "# Freeze the base model layers\n",
        "for layer in base_model.layers:\n",
        "    layer.trainable = False\n",
        "\n",
        "# Add custom layers on top of the base model\n",
        "x = base_model.output\n",
        "x = Flatten()(x)\n",
        "x = Dense(512, activation='relu')(x)\n",
        "x = Dropout(0.5)(x)\n",
        "predictions = Dense(len(train_generator.class_indices), activation='softmax')(x)\n",
        "\n",
        "# Create the final model\n",
        "model = Model(inputs=base_model.input, outputs=predictions)\n",
        "\n",
        "# Compile the model\n",
        "model.compile(optimizer='adam', loss='categorical_crossentropy', metrics=['accuracy'])\n"
      ]
    },
    {
      "cell_type": "code",
      "source": [],
      "metadata": {
        "id": "2HT3YBfSjghM"
      },
      "execution_count": 13,
      "outputs": []
    },
    {
      "cell_type": "code",
      "execution_count": 14,
      "metadata": {
        "id": "VtTkU49ij9Y9",
        "colab": {
          "base_uri": "https://localhost:8080/"
        },
        "outputId": "b64ea382-870f-4fd1-df64-92566d0572b8"
      },
      "outputs": [
        {
          "output_type": "stream",
          "name": "stdout",
          "text": [
            "Epoch 1/10\n"
          ]
        },
        {
          "output_type": "stream",
          "name": "stderr",
          "text": [
            "/usr/local/lib/python3.10/dist-packages/keras/src/trainers/data_adapters/py_dataset_adapter.py:121: UserWarning: Your `PyDataset` class should call `super().__init__(**kwargs)` in its constructor. `**kwargs` can include `workers`, `use_multiprocessing`, `max_queue_size`. Do not pass these arguments to `fit()`, as they will be ignored.\n",
            "  self._warn_if_super_not_called()\n"
          ]
        },
        {
          "output_type": "stream",
          "name": "stdout",
          "text": [
            "\u001b[1m590/590\u001b[0m \u001b[32m━━━━━━━━━━━━━━━━━━━━\u001b[0m\u001b[37m\u001b[0m \u001b[1m298s\u001b[0m 469ms/step - accuracy: 0.4278 - loss: 1.7731 - val_accuracy: 0.6929 - val_loss: 0.8720\n",
            "Epoch 2/10\n",
            "\u001b[1m  1/590\u001b[0m \u001b[37m━━━━━━━━━━━━━━━━━━━━\u001b[0m \u001b[1m1:17\u001b[0m 131ms/step - accuracy: 0.5625 - loss: 1.1489"
          ]
        },
        {
          "output_type": "stream",
          "name": "stderr",
          "text": [
            "/usr/lib/python3.10/contextlib.py:153: UserWarning: Your input ran out of data; interrupting training. Make sure that your dataset or generator can generate at least `steps_per_epoch * epochs` batches. You may need to use the `.repeat()` function when building your dataset.\n",
            "  self.gen.throw(typ, value, traceback)\n"
          ]
        },
        {
          "output_type": "stream",
          "name": "stdout",
          "text": [
            "\b\b\b\b\b\b\b\b\b\b\b\b\b\b\b\b\b\b\b\b\b\b\b\b\b\b\b\b\b\b\b\b\b\b\b\b\b\b\b\b\b\b\b\b\b\b\b\b\b\b\b\b\b\b\b\b\b\b\b\b\b\b\b\b\b\b\b\b\b\b\b\b\b\b\b\b\b\b\r\u001b[1m590/590\u001b[0m \u001b[32m━━━━━━━━━━━━━━━━━━━━\u001b[0m\u001b[37m\u001b[0m \u001b[1m11s\u001b[0m 19ms/step - accuracy: 0.5625 - loss: 1.1489 - val_accuracy: 0.7500 - val_loss: 0.7987\n",
            "Epoch 3/10\n",
            "\u001b[1m590/590\u001b[0m \u001b[32m━━━━━━━━━━━━━━━━━━━━\u001b[0m\u001b[37m\u001b[0m \u001b[1m277s\u001b[0m 443ms/step - accuracy: 0.5906 - loss: 1.1355 - val_accuracy: 0.7379 - val_loss: 0.7725\n",
            "Epoch 4/10\n",
            "\u001b[1m590/590\u001b[0m \u001b[32m━━━━━━━━━━━━━━━━━━━━\u001b[0m\u001b[37m\u001b[0m \u001b[1m0s\u001b[0m 241us/step - accuracy: 0.5938 - loss: 0.9634 - val_accuracy: 0.8333 - val_loss: 0.5613\n",
            "Epoch 5/10\n",
            "\u001b[1m590/590\u001b[0m \u001b[32m━━━━━━━━━━━━━━━━━━━━\u001b[0m\u001b[37m\u001b[0m \u001b[1m263s\u001b[0m 441ms/step - accuracy: 0.6192 - loss: 1.0528 - val_accuracy: 0.7759 - val_loss: 0.6465\n",
            "Epoch 6/10\n",
            "\u001b[1m590/590\u001b[0m \u001b[32m━━━━━━━━━━━━━━━━━━━━\u001b[0m\u001b[37m\u001b[0m \u001b[1m0s\u001b[0m 228us/step - accuracy: 0.8125 - loss: 0.6250 - val_accuracy: 0.8750 - val_loss: 0.4103\n",
            "Epoch 7/10\n",
            "\u001b[1m590/590\u001b[0m \u001b[32m━━━━━━━━━━━━━━━━━━━━\u001b[0m\u001b[37m\u001b[0m \u001b[1m261s\u001b[0m 438ms/step - accuracy: 0.6433 - loss: 0.9819 - val_accuracy: 0.7610 - val_loss: 0.7137\n",
            "Epoch 8/10\n",
            "\u001b[1m590/590\u001b[0m \u001b[32m━━━━━━━━━━━━━━━━━━━━\u001b[0m\u001b[37m\u001b[0m \u001b[1m0s\u001b[0m 223us/step - accuracy: 0.5000 - loss: 1.2713 - val_accuracy: 0.7917 - val_loss: 0.5714\n",
            "Epoch 9/10\n",
            "\u001b[1m590/590\u001b[0m \u001b[32m━━━━━━━━━━━━━━━━━━━━\u001b[0m\u001b[37m\u001b[0m \u001b[1m260s\u001b[0m 438ms/step - accuracy: 0.6374 - loss: 0.9825 - val_accuracy: 0.7907 - val_loss: 0.5983\n",
            "Epoch 10/10\n",
            "\u001b[1m590/590\u001b[0m \u001b[32m━━━━━━━━━━━━━━━━━━━━\u001b[0m\u001b[37m\u001b[0m \u001b[1m0s\u001b[0m 222us/step - accuracy: 0.7500 - loss: 0.7795 - val_accuracy: 0.9167 - val_loss: 0.3263\n"
          ]
        }
      ],
      "source": [
        "# Train the model\n",
        "history = model.fit(\n",
        "    train_generator,\n",
        "    steps_per_epoch=train_generator.samples // train_generator.batch_size,\n",
        "    validation_data=val_generator,\n",
        "    validation_steps=val_generator.samples // val_generator.batch_size,\n",
        "    epochs=10  # Adjust epochs as needed\n",
        ")\n"
      ]
    },
    {
      "cell_type": "code",
      "execution_count": 15,
      "metadata": {
        "id": "2fid8U5wj_gu",
        "colab": {
          "base_uri": "https://localhost:8080/"
        },
        "outputId": "f12660ed-f371-4011-9db1-faaab98096a3"
      },
      "outputs": [
        {
          "output_type": "stream",
          "name": "stdout",
          "text": [
            "\u001b[1m169/169\u001b[0m \u001b[32m━━━━━━━━━━━━━━━━━━━━\u001b[0m\u001b[37m\u001b[0m \u001b[1m23s\u001b[0m 134ms/step - accuracy: 0.7829 - loss: 0.5988\n",
            "Validation Loss: 0.5992153882980347\n",
            "Validation Accuracy: 0.787407398223877\n"
          ]
        }
      ],
      "source": [
        "# Evaluate on the validation set\n",
        "val_loss, val_accuracy = model.evaluate(val_generator)\n",
        "print(f'Validation Loss: {val_loss}')\n",
        "print(f'Validation Accuracy: {val_accuracy}')\n"
      ]
    },
    {
      "cell_type": "code",
      "source": [
        "# Define the test CSV path\n",
        "test_csv = \"/content/EuroSAT_extracted/EuroSAT/test.csv\"\n",
        "\n",
        "# Load the test CSV file\n",
        "test_df = pd.read_csv(test_csv)\n",
        "\n",
        "# Add a new column for the full image path\n",
        "test_df['image_path'] = test_df['Filename'].apply(lambda x: str(parent_dir) + \"/\" + x)\n",
        "\n",
        "# Prepare the test data generator\n",
        "test_datagen = ImageDataGenerator(rescale=1.0/255)\n",
        "\n",
        "# Create the test data generator\n",
        "test_generator = test_datagen.flow_from_dataframe(\n",
        "    dataframe=test_df,\n",
        "    x_col='image_path',\n",
        "    y_col='ClassName',\n",
        "    target_size=(224, 224),\n",
        "    batch_size=32,\n",
        "    class_mode='categorical',\n",
        "    shuffle=False\n",
        ")\n"
      ],
      "metadata": {
        "id": "837t4liugzD_",
        "colab": {
          "base_uri": "https://localhost:8080/"
        },
        "outputId": "6bba3c3d-af56-4f03-b6c2-3a98271270fa"
      },
      "execution_count": 18,
      "outputs": [
        {
          "output_type": "stream",
          "name": "stdout",
          "text": [
            "Found 2700 validated image filenames belonging to 10 classes.\n"
          ]
        }
      ]
    },
    {
      "cell_type": "code",
      "source": [
        "# Evaluate the model\n",
        "test_loss, test_accuracy = model.evaluate(test_generator)\n",
        "print(f'Test Loss: {test_loss}')\n",
        "print(f'Test Accuracy: {test_accuracy}')\n"
      ],
      "metadata": {
        "id": "2N8M1qBQg5Nu",
        "colab": {
          "base_uri": "https://localhost:8080/"
        },
        "outputId": "5bdcc09d-be1e-416b-95b1-131d5475231f"
      },
      "execution_count": 17,
      "outputs": [
        {
          "output_type": "stream",
          "name": "stderr",
          "text": [
            "/usr/local/lib/python3.10/dist-packages/keras/src/trainers/data_adapters/py_dataset_adapter.py:121: UserWarning: Your `PyDataset` class should call `super().__init__(**kwargs)` in its constructor. `**kwargs` can include `workers`, `use_multiprocessing`, `max_queue_size`. Do not pass these arguments to `fit()`, as they will be ignored.\n",
            "  self._warn_if_super_not_called()\n"
          ]
        },
        {
          "output_type": "stream",
          "name": "stdout",
          "text": [
            "\u001b[1m85/85\u001b[0m \u001b[32m━━━━━━━━━━━━━━━━━━━━\u001b[0m\u001b[37m\u001b[0m \u001b[1m18s\u001b[0m 212ms/step - accuracy: 0.8016 - loss: 0.5726\n",
            "Test Loss: 0.5806007385253906\n",
            "Test Accuracy: 0.7985185384750366\n"
          ]
        }
      ]
    },
    {
      "cell_type": "code",
      "source": [
        "model.save('EuroSAT_model.h5')"
      ],
      "metadata": {
        "id": "AxFRwxvNi-8x",
        "colab": {
          "base_uri": "https://localhost:8080/"
        },
        "outputId": "6a4d1c12-d1c4-4916-a195-dbce41e3767f"
      },
      "execution_count": 19,
      "outputs": [
        {
          "output_type": "stream",
          "name": "stderr",
          "text": [
            "WARNING:absl:You are saving your model as an HDF5 file via `model.save()` or `keras.saving.save_model(model)`. This file format is considered legacy. We recommend using instead the native Keras format, e.g. `model.save('my_model.keras')` or `keras.saving.save_model(model, 'my_model.keras')`. \n"
          ]
        }
      ]
    }
  ],
  "metadata": {
    "colab": {
      "provenance": [],
      "gpuType": "T4",
      "authorship_tag": "ABX9TyOX48TFC0Ih79jxQofmKYwF",
      "include_colab_link": true
    },
    "kernelspec": {
      "display_name": "Python 3",
      "name": "python3"
    },
    "language_info": {
      "name": "python"
    },
    "accelerator": "GPU"
  },
  "nbformat": 4,
  "nbformat_minor": 0
}